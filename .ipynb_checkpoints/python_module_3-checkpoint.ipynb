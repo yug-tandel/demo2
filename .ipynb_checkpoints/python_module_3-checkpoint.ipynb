{
 "cells": [
  {
   "cell_type": "code",
   "execution_count": 1,
   "id": "9a19ef9e",
   "metadata": {},
   "outputs": [
    {
     "name": "stdout",
     "output_type": "stream",
     "text": [
      "Original list :-  ['jfsjfss', '', '', 'd', 'sd', 's', '']\n",
      "Reversed list :-  ['', 's', 'sd', 'd', '', '', 'jfsjfss']\n"
     ]
    }
   ],
   "source": [
    "#Q1. What is list? How will you reverse a list?\n",
    "#--> Lists are used to store multiple items in a single variable. Lists are one \n",
    "# of 4 built-in data types in Python used to store collections of data, the other \n",
    "# 3 are Tuple, Set, and Dictionary, all with different qualities and usage.\n",
    "#--> Every list in Python has a built-in reverse() method you can call to\n",
    "# reverse the contents of the list object in-place. Reversing the list in-place\n",
    "# means won't create a new list and copy the existing elements to it in reverse\n",
    "# order.\n",
    "# Reversing a list using slice method\n",
    "list1 = input('enter list')\n",
    "list1 = list1.split(' ')\n",
    "print('Original list :- ',list1)\n",
    "print('Reversed list :- ',list1[-1::-1])"
   ]
  },
  {
   "cell_type": "code",
   "execution_count": 5,
   "id": "31a79809",
   "metadata": {},
   "outputs": [
    {
     "name": "stdout",
     "output_type": "stream",
     "text": [
      "[1, 2, 3, 4, 5, 6, 7, 8]\n"
     ]
    }
   ],
   "source": [
    "#Q2. How will you remove last object form a list?\n",
    "#--> The simplest approach is to use the list's pop([i]) function, which removes\n",
    "# an element present at the specified position in the list. If we don't specify\n",
    "# any index, pop() removes and returns the last element in the list.\n",
    "# Using slice method\n",
    "list1 = [1,2,3,4,5,6,7,8,9]\n",
    "list1 = list1[0:-1]\n",
    "print(list1)"
   ]
  },
  {
   "cell_type": "code",
   "execution_count": 4,
   "id": "ea954ecc",
   "metadata": {},
   "outputs": [
    {
     "name": "stdout",
     "output_type": "stream",
     "text": [
      "25\n"
     ]
    }
   ],
   "source": [
    "#Q3. Suppose list1 is [2,33,222,14,25], what is list[-1]\n",
    "#--> The list of -1 is the last index, hence the list[-1] is 25\n",
    "list1 = [2,33,222,14,25]\n",
    "print(list1[-1])"
   ]
  },
  {
   "cell_type": "code",
   "execution_count": 3,
   "id": "0ce5ee67",
   "metadata": {},
   "outputs": [
    {
     "name": "stdout",
     "output_type": "stream",
     "text": [
      "['p', 'y', 't', 'h', 'o', 'n']\n"
     ]
    }
   ],
   "source": [
    "list1 = ['']\n",
    "str1 = 'python'\n",
    "list1[0:len(str1)] = str1\n",
    "print(list1)"
   ]
  },
  {
   "cell_type": "code",
   "execution_count": null,
   "id": "10db22ef",
   "metadata": {},
   "outputs": [],
   "source": [
    "#Q7. Write a python program to count the number of strings where the string \n",
    "# length is 2 or more and the first and last character are same from a given \n",
    "# list of strings\n",
    "list1 = input('enter list')\n",
    "list1 = list1.split(' ')\n",
    "print('Original list :- ',list1)\n",
    "count = 0\n",
    "for element in list1: # element = yuy\n",
    "    if len(element)>=2 and element[0]==element[-1]:\n",
    "        count = count + 1\n",
    "print('number of string that satisfies the above condition is/are :- ',count)"
   ]
  },
  {
   "cell_type": "code",
   "execution_count": null,
   "id": "cb2895de",
   "metadata": {},
   "outputs": [],
   "source": [
    "#Q8. Write a python program to remove duplicates form a list.\n",
    "list1 = [1,1,3,4,5,6,'yug','abc','yug',5,6]\n",
    "# Expected Output :- [1,3,4,5,6,'yug','neha']\n",
    "list_temp = []\n",
    "for elm in list1: # elm = 3\n",
    "    i = [elm]\n",
    "    if elm not in list_temp: # i = [3]\n",
    "        list_temp = list_temp + i  # list_temp = [1,2,3] \n",
    "        print(list_temp)\n",
    "    else:\n",
    "        continue\n",
    "# print(list_temp)\n",
    "# [[1],]"
   ]
  },
  {
   "cell_type": "code",
   "execution_count": null,
   "id": "5ef7959f",
   "metadata": {},
   "outputs": [],
   "source": [
    "#Q11. Write a python program to generate and print a list of first and last 5\n",
    "# elements where the values are square of numbers between 1 and 30.\n",
    "list1 = []\n",
    "for i in range(1,31):\n",
    "    list1 = list1 + [i*i]\n",
    "print(list1)\n",
    "new_list = list1[:5] + list1[-5:]\n",
    "print('new list :-',new_list)"
   ]
  },
  {
   "cell_type": "code",
   "execution_count": null,
   "id": "7e042385",
   "metadata": {},
   "outputs": [],
   "source": [
    "#Q13. Write a Python program to convert a list of characters into a string.\n",
    "list1 = ['y','u','g','1']\n",
    "str1 = ''\n",
    "for i in list1:\n",
    "    str(i) \n",
    "    str1 = str1 + i\n",
    "print(str1)\n"
   ]
  },
  {
   "cell_type": "code",
   "execution_count": null,
   "id": "a55f37a3",
   "metadata": {
    "scrolled": true
   },
   "outputs": [],
   "source": [
    "#Q14. Write a python program to find the second smallest number in a list.\n",
    "list1 = [1,2,3,4,9,5,6,-2,-3,7,8]\n",
    "m = min(list1)\n",
    "list2 = []\n",
    "for i in list1: # i = -3\n",
    "    if i==m:\n",
    "        continue\n",
    "    else:\n",
    "        i = [i]\n",
    "        list2 = list2 + i\n",
    "print(list2)\n",
    "print('Second smallest number is :-',min(list2))"
   ]
  },
  {
   "cell_type": "code",
   "execution_count": null,
   "id": "fa8152e6",
   "metadata": {},
   "outputs": [],
   "source": [
    "#Q3. Difference between append() and extend() methods\n"
   ]
  }
 ],
 "metadata": {
  "kernelspec": {
   "display_name": "Python 3 (ipykernel)",
   "language": "python",
   "name": "python3"
  },
  "language_info": {
   "codemirror_mode": {
    "name": "ipython",
    "version": 3
   },
   "file_extension": ".py",
   "mimetype": "text/x-python",
   "name": "python",
   "nbconvert_exporter": "python",
   "pygments_lexer": "ipython3",
   "version": "3.9.12"
  },
  "vscode": {
   "interpreter": {
    "hash": "369f2c481f4da34e4445cda3fffd2e751bd1c4d706f27375911949ba6bb62e1c"
   }
  }
 },
 "nbformat": 4,
 "nbformat_minor": 5
}
