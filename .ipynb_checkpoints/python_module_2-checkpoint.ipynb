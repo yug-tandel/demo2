{
 "cells": [
  {
   "cell_type": "code",
   "execution_count": null,
   "id": "9ff0c4c2",
   "metadata": {},
   "outputs": [],
   "source": [
    "#Q1. What is list? How will you reverse a list?\n",
    "#--> Lists are used to store multiple items in a single variable. Lists are one \n",
    "# of 4 built-in data types in Python used to store collections of data, the other \n",
    "# 3 are Tuple, Set, and Dictionary, all with different qualities and usage.\n",
    "#--> Every list in Python has a built-in reverse() method you can call to\n",
    "# reverse the contents of the list object in-place. Reversing the list in-place\n",
    "# means won't create a new list and copy the existing elements to it in reverse\n",
    "# order.\n",
    "# Reversing a list using slice method\n",
    "list1 = input('enter list')\n",
    "list1 = list1.split(' ')\n",
    "print('Original list :- ',list1)\n",
    "print('Reversed list :- ',list1[-1::-1])"
   ]
  },
  {
   "cell_type": "code",
   "execution_count": null,
   "id": "b29d9a8e",
   "metadata": {},
   "outputs": [],
   "source": [
    "#Q2. How will you remove last object form a list?\n",
    "#--> The simplest approach is to use the list's pop([i]) function, which removes\n",
    "# an element present at the specified position in the list. If we don't specify\n",
    "# any index, pop() removes and returns the last element in the list.\n",
    "# Using slice method\n",
    "list1 = [1,2,3,4,5,6,7,8,9]\n",
    "list1 = list1[0:-1]\n",
    "print(list1)"
   ]
  },
  {
   "cell_type": "code",
   "execution_count": null,
   "id": "0fa88256",
   "metadata": {},
   "outputs": [],
   "source": [
    "#Q3. Suppose list1 is [2,33,222,14,25], what is list[-1]\n",
    "#--> The list of -1 is the last index, hence the list[-1] is 25\n",
    "list1 = [2,33,222,14,25]\n",
    "print(list1[-1])"
   ]
  },
  {
   "cell_type": "code",
   "execution_count": null,
   "id": "ca9118c3",
   "metadata": {},
   "outputs": [],
   "source": [
    "#Q6. How will you compare two string?"
   ]
  },
  {
   "cell_type": "code",
   "execution_count": null,
   "id": "40e9c6f4",
   "metadata": {},
   "outputs": [],
   "source": [
    "list1 = ['']\n",
    "str1 = 'python'\n",
    "list1[0:len(str1)] = str1\n",
    "print(list1)"
   ]
  },
  {
   "cell_type": "code",
   "execution_count": null,
   "id": "4329a78a",
   "metadata": {},
   "outputs": [],
   "source": [
    "#Q7. Write a python program to count the number of strings where the string \n",
    "# length is 2 or more and the first and last character are same from a given \n",
    "# list of strings\n",
    "list1 = input('enter list')\n",
    "list1 = list1.split(' ')\n",
    "print('Original list :- ',list1)\n",
    "count = 0\n",
    "for element in list1: # element = yuy\n",
    "    if len(element)>=2 and element[0]==element[-1]:\n",
    "        count = count + 1\n",
    "print('number of string that satisfies the above condition is/are :- ',count)"
   ]
  },
  {
   "cell_type": "code",
   "execution_count": 16,
   "id": "55968fa6",
   "metadata": {},
   "outputs": [
    {
     "name": "stdout",
     "output_type": "stream",
     "text": [
      "[1]\n",
      "[1, 3]\n",
      "[1, 3, 4]\n",
      "[1, 3, 4, 5]\n",
      "[1, 3, 4, 5, 6]\n",
      "[1, 3, 4, 5, 6, 'yug']\n",
      "[1, 3, 4, 5, 6, 'yug', 'abc']\n"
     ]
    }
   ],
   "source": [
    "#Q8. Write a python program to remove duplicates form a list.\n",
    "list1 = [1,1,3,4,5,6,'yug','abc','yug',5,6]\n",
    "# Expected Output :- [1,3,4,5,6,'yug','neha']\n",
    "list_temp = []\n",
    "for elm in list1: # elm = 3\n",
    "    i = [elm]\n",
    "    if elm not in list_temp: # i = [3]\n",
    "        list_temp = list_temp + i  # list_temp = [1,2,3]\n",
    "        print(list_temp)\n",
    "    else:\n",
    "        continue\n",
    "# print(list_temp)\n",
    "# [[1],]"
   ]
  },
  {
   "cell_type": "code",
   "execution_count": null,
   "id": "b5fd1912",
   "metadata": {},
   "outputs": [],
   "source": [
    "#Q9. Write a python program to check a list is empty or not.\n",
    "list1 = input()\n",
    "list1 = list1.split(' ')\n",
    "if list1 == []:\n",
    "    print('empty string ')\n",
    "else:\n",
    "    print('non empty')\n",
    "    print(list1)"
   ]
  },
  {
   "cell_type": "code",
   "execution_count": 5,
   "id": "70df6723",
   "metadata": {},
   "outputs": [
    {
     "name": "stdout",
     "output_type": "stream",
     "text": [
      "[1, 4, 9, 16, 25, 36, 49, 64, 81, 100, 121, 144, 169, 196, 225, 256, 289, 324, 361, 400, 441, 484, 529, 576, 625, 676, 729, 784, 841, 900]\n",
      "new list :- [1, 4, 9, 16, 25, 676, 729, 784, 841, 900]\n"
     ]
    }
   ],
   "source": [
    "#Q11. Write a python program to generate and print a list of first and last 5\n",
    "# elements where the values are square of numbers between 1 and 30.\n",
    "list1 = []\n",
    "for i in range(1,31):\n",
    "    list1 = list1 + [i*i]\n",
    "print(list1)\n",
    "new_list = list1[:5] + list1[-5:]\n",
    "print('new list :-',new_list)"
   ]
  },
  {
   "cell_type": "code",
   "execution_count": 11,
   "id": "a0281397",
   "metadata": {},
   "outputs": [
    {
     "name": "stdout",
     "output_type": "stream",
     "text": [
      "yug1\n"
     ]
    }
   ],
   "source": [
    "#Q13. Write a Python program to convert a list of characters into a string.\n",
    "list1 = ['y','u','g','1']\n",
    "str1 = ''\n",
    "for i in list1:\n",
    "    str(i) \n",
    "    str1 = str1 + i\n",
    "print(str1)\n"
   ]
  },
  {
   "cell_type": "code",
   "execution_count": 24,
   "id": "8e1ec9c8",
   "metadata": {},
   "outputs": [
    {
     "name": "stdout",
     "output_type": "stream",
     "text": [
      "[1, 2, 3, 4, 9, 5, 6, -2, 7, 8]\n",
      "Second smallest number is :- -2\n"
     ]
    }
   ],
   "source": [
    "#Q14. Write a python program to find the second smallest number in a list.\n",
    "list1 = [1,2,3,4,9,5,6,-2,-3,7,8]\n",
    "m = min(list1)\n",
    "list2 = []\n",
    "for i in list1: # i = -3\n",
    "    if i==m:\n",
    "        continue\n",
    "    else:\n",
    "        i = [i]\n",
    "        list2 = list2 + i\n",
    "print(list2)\n",
    "print('Second smallest number is :-',min(list2))"
   ]
  },
  {
   "cell_type": "code",
   "execution_count": null,
   "id": "01991cda",
   "metadata": {},
   "outputs": [],
   "source": []
  }
 ],
 "metadata": {
  "kernelspec": {
   "display_name": "Python 3 (ipykernel)",
   "language": "python",
   "name": "python3"
  },
  "language_info": {
   "codemirror_mode": {
    "name": "ipython",
    "version": 3
   },
   "file_extension": ".py",
   "mimetype": "text/x-python",
   "name": "python",
   "nbconvert_exporter": "python",
   "pygments_lexer": "ipython3",
   "version": "3.9.12"
  }
 },
 "nbformat": 4,
 "nbformat_minor": 5
}
