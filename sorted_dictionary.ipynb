{
 "cells": [
  {
   "cell_type": "code",
   "execution_count": null,
   "id": "cfae4e8a",
   "metadata": {},
   "outputs": [],
   "source": [
    "#Q33. Write a Python script to sort(acending and decending) a dictionary  by value\n",
    "                  # In Acending Order\n",
    "dictionary = {1:'one',2:'two',3:'three',4:'four',5:'five'}\n",
    "\n",
    "print('original dictionary = ',dictionary)\n",
    "list1 = list(dictionary.items())\n",
    "list2 = []\n",
    "\n",
    "for i in list1:\n",
    "    i = list(i)\n",
    "    i.reverse()\n",
    "    list2.insert(0,i)\n",
    "\n",
    "list2.reverse()\n",
    "list2.sort()\n",
    "count = 0\n",
    "list3 = []\n",
    "\n",
    "for i in list2:\n",
    "    i.reverse()\n",
    "    list3.insert(0,i)\n",
    "    count = count + 1  \n",
    "    \n",
    "list3.reverse()   \n",
    "dictionary_2 = {}\n",
    "dictionary_2.update(list2)\n",
    "dictionary.clear()\n",
    "dictionary = dictionary_2.copy()\n",
    "print('Sorted dictionary in Acending =',dictionary)"
   ]
  },
  {
   "cell_type": "code",
   "execution_count": null,
   "id": "f027af87",
   "metadata": {},
   "outputs": [],
   "source": [
    "#Q33. Write a Python script to sort(acending and decending) a dictionary  by value\n",
    "                  # In Decending Order\n",
    "dictionary = {1:'one',2:'two',3:'three',4:'four',5:'five'}\n",
    "\n",
    "print('original dictionary = ',dictionary)\n",
    "list1 = list(dictionary.items())\n",
    "list2 = []\n",
    "\n",
    "for i in list1:\n",
    "    i = list(i)\n",
    "    i.reverse()\n",
    "    list2.insert(0,i)\n",
    "\n",
    "list2.reverse()\n",
    "list2.sort(reverse = True)\n",
    "count = 0\n",
    "list3 = []\n",
    "\n",
    "for i in list2:\n",
    "    i.reverse()\n",
    "    list3.insert(0,i)\n",
    "    count = count + 1  \n",
    "    \n",
    "list3.reverse()   \n",
    "dictionary_2 = {}\n",
    "dictionary_2.update(list2)\n",
    "dictionary.clear()\n",
    "dictionary = dictionary_2.copy()\n",
    "print('Sorted dictionary in Decending =',dictionary)"
   ]
  }
 ],
 "metadata": {
  "kernelspec": {
   "display_name": "Python 3 (ipykernel)",
   "language": "python",
   "name": "python3"
  },
  "language_info": {
   "codemirror_mode": {
    "name": "ipython",
    "version": 3
   },
   "file_extension": ".py",
   "mimetype": "text/x-python",
   "name": "python",
   "nbconvert_exporter": "python",
   "pygments_lexer": "ipython3",
   "version": "3.9.12"
  }
 },
 "nbformat": 4,
 "nbformat_minor": 5
}
